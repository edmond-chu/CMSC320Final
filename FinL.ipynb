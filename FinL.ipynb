{
 "cells": [
  {
   "cell_type": "code",
   "execution_count": null,
   "metadata": {},
   "outputs": [],
   "source": [
    "import csv\n",
    "import pandas as pd\n",
    "import numpy\n",
    "data = pd.read_csv(\"bots_in_twitter.csv\", lineterminator = '\\n')\n",
    "data.head()"
   ]
  },
  {
   "cell_type": "code",
   "execution_count": null,
   "metadata": {},
   "outputs": [],
   "source": [
    "df.drop(['Unnamed: 0', 'Unnamed: 0.1','default_profile','geo_enabled','screen_name' , 'location' ,'default_profile_image','created_at', 'id', 'profile_image_url','profile_background_image_url', 'description'], axis = 1, inplace = True)\n",
    "df.head(10)\n"
   ]
  },
  {
   "cell_type": "code",
   "execution_count": null,
   "metadata": {},
   "outputs": [],
   "source": [
    "num_bots = 0\n",
    "for index, row in df.iterrows():\n",
    "    if (row['account_type'] == 'bot'):\n",
    "        num_bots = num_bots + 1\n",
    "mean = num_bots/(len(lang_df))\n",
    "print(mean)\n",
    "\n",
    "lang_df = df[df['lang'] != np.nan]\n",
    "lang_df = lang_df.groupby('lang')\n",
    "\n",
    "sums = []\n",
    "for name, group in lang_df:\n",
    "    sum = 0\n",
    "    for index, row in group.iterrows():\n",
    "        if (row['account_type'] == 'bot'):\n",
    "            sum = sum + 1\n",
    "    if (sum != 0 ):\n",
    "        sums.append(sum)\n",
    "\n",
    "median = np.median(sums)\n",
    "print(median)\n",
    "\n",
    "names = []\n",
    "bots_per_language = []\n",
    "for name, group in lang_df:\n",
    "    sum = 0\n",
    "    for index, row in group.iterrows():\n",
    "        if (row['account_type'] == 'bot'):\n",
    "            sum = sum + 1\n",
    "    if (sum > median + (median * 0.75) and name != 'en'):\n",
    "        names.append(name)\n",
    "        bots_per_language.append(sum)\n",
    "        \n",
    "plt.bar(names,bots_per_country)\n",
    "plt.title('Number of Bots Per Language')\n",
    "plt.xlabel('Languages')\n",
    "plt.ylabel('Number of Bots')\n",
    "plt.show()\n"
   ]
  },
  {
   "cell_type": "code",
   "execution_count": null,
   "metadata": {},
   "outputs": [],
   "source": []
  },
  {
   "cell_type": "code",
   "execution_count": null,
   "metadata": {},
   "outputs": [],
   "source": []
  },
  {
   "cell_type": "code",
   "execution_count": null,
   "metadata": {},
   "outputs": [],
   "source": []
  },
  {
   "cell_type": "code",
   "execution_count": null,
   "metadata": {},
   "outputs": [],
   "source": []
  }
 ],
 "metadata": {
  "kernelspec": {
   "display_name": "Python 3",
   "language": "python",
   "name": "python3"
  },
  "language_info": {
   "codemirror_mode": {
    "name": "ipython",
    "version": 3
   },
   "file_extension": ".py",
   "mimetype": "text/x-python",
   "name": "python",
   "nbconvert_exporter": "python",
   "pygments_lexer": "ipython3",
   "version": "3.8.5"
  }
 },
 "nbformat": 4,
 "nbformat_minor": 4
}
